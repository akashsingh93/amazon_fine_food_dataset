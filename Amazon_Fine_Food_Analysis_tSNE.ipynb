{
 "cells": [
  {
   "cell_type": "markdown",
   "metadata": {},
   "source": [
    "# Amazon Fine Food Reviews Analysis\n",
    "\n",
    "\n",
    "Data Source: https://www.kaggle.com/snap/amazon-fine-food-reviews <br>\n",
    "\n",
    "EDA: https://nycdatascience.com/blog/student-works/amazon-fine-foods-visualization/\n",
    "\n",
    "\n",
    "The Amazon Fine Food Reviews dataset consists of reviews of fine foods from Amazon.<br>\n",
    "\n",
    "Number of reviews: 568,454<br>\n",
    "Number of users: 256,059<br>\n",
    "Number of products: 74,258<br>\n",
    "Timespan: Oct 1999 - Oct 2012<br>\n",
    "Number of Attributes/Columns in data: 10 \n",
    "\n",
    "Attribute Information:\n",
    "\n",
    "1. Id\n",
    "2. ProductId - unique identifier for the product\n",
    "3. UserId - unqiue identifier for the user\n",
    "4. ProfileName\n",
    "5. HelpfulnessNumerator - number of users who found the review helpful\n",
    "6. HelpfulnessDenominator - number of users who indicated whether they found the review helpful or not\n",
    "7. Score - rating between 1 and 5\n",
    "8. Time - timestamp for the review\n",
    "9. Summary - brief summary of the review\n",
    "10. Text - text of the review\n",
    "\n",
    "\n",
    "#### Objective:\n",
    "Given a review, determine whether the review is positive (Rating of 4 or 5) or negative (rating of 1 or 2).\n",
    "\n",
    "<br>\n",
    "[Q] How to determine if a review is positive or negative?<br>\n",
    "<br> \n",
    "[Ans] We could use the Score/Rating. A rating of 4 or 5 could be cosnidered a positive review. A review of 1 or 2 could be considered negative. A review of 3 is nuetral and ignored. This is an approximate and proxy way of determining the polarity (positivity/negativity) of a review.\n",
    "\n",
    "\n"
   ]
  },
  {
   "cell_type": "markdown",
   "metadata": {},
   "source": [
    "## Loading the data\n",
    "\n",
    "The dataset is available in two forms\n",
    "1. .csv file\n",
    "2. SQLite Database\n",
    "\n",
    "In order to load the data, We have used the SQLITE dataset as it easier to query the data and visualise the data efficiently.\n",
    "<br> \n",
    "\n",
    "Here as we only want to get the global sentiment of the recommendations (positive or negative), we will purposefully ignore all Scores equal to 3. If the score id above 3, then the recommendation wil be set to \"positive\". Otherwise, it will be set to \"negative\"."
   ]
  },
  {
   "cell_type": "code",
   "execution_count": null,
   "metadata": {},
   "outputs": [],
   "source": [
    "%matplotlib inline\n",
    "import warnings\n",
    "warnings.filterwarnings(\"ignore\")\n",
    "\n",
    "\n",
    "\n",
    "import sqlite3\n",
    "import pandas as pd\n",
    "import numpy as np\n",
    "import nltk\n",
    "import string\n",
    "import matplotlib.pyplot as plt\n",
    "import seaborn as sns\n",
    "from sklearn.feature_extraction.text import TfidfTransformer\n",
    "from sklearn.feature_extraction.text import TfidfVectorizer\n",
    "\n",
    "from sklearn.feature_extraction.text import CountVectorizer\n",
    "from sklearn.metrics import confusion_matrix\n",
    "from sklearn import metrics\n",
    "from sklearn.metrics import roc_curve, auc\n",
    "from nltk.stem.porter import PorterStemmer\n",
    "\n",
    "import re\n",
    "\n",
    "import string\n",
    "from nltk.corpus import stopwords\n",
    "from nltk.stem import PorterStemmer\n",
    "from nltk.stem.wordnet import WordNetLemmatizer\n",
    "\n",
    "from gensim.models import Word2Vec\n",
    "from gensim.models import KeyedVectors\n",
    "import pickle\n",
    "\n",
    "from tqdm import tqdm\n",
    "import os"
   ]
  },
  {
   "cell_type": "markdown",
   "metadata": {},
   "source": [
    "# [1]. Reading Data"
   ]
  },
  {
   "cell_type": "code",
   "execution_count": null,
   "metadata": {},
   "outputs": [],
   "source": [
    "# Using SQL lite to connect to SQL dump database.sqlite\n",
    "con = sqlite3.connect(\"./database.sqlite\")\n",
    "#We have got connection object i.e. con now, We will be using this connection object for further querying"
   ]
  },
  {
   "cell_type": "code",
   "execution_count": null,
   "metadata": {},
   "outputs": [],
   "source": [
    "# Let's take 5K examples first for faster computation. \n",
    "# Since our target is to remove the neutral rating as this can lead to confusion. \n",
    "filtered_data = pd.read_sql_query(\"SELECT * FROM REVIEWS WHERE SCORE != 3 LIMIT 500000\",con)\n",
    "\n",
    "# Function to for categorization of class attribute i.e. score, if score < 3 then negative reviews and if score > 3\n",
    "# then positive reviews.\n",
    "\n",
    "def distinguish_ratings(x):\n",
    "    if x < 3:\n",
    "        return 0\n",
    "    elif x > 3:\n",
    "        return 1\n",
    "\n",
    "#changing the last score columns value to the decision values i.e. positive and negative\n",
    "filtered_data[\"Score\"] = filtered_data[\"Score\"].map(distinguish_ratings)\n",
    "print(\"The shape of filtered data is \",filtered_data.shape)\n",
    "filtered_data.head(5)"
   ]
  },
  {
   "cell_type": "markdown",
   "metadata": {},
   "source": [
    "# [2] Data Cleaning \n",
    "### Hunch 1 : Deduplication"
   ]
  },
  {
   "cell_type": "code",
   "execution_count": null,
   "metadata": {},
   "outputs": [],
   "source": [
    "display = pd.read_sql_query(\"\"\" SELECT USERID,PRODUCTID,PROFILENAME,TIME,SCORE,TEXT,COUNT(*)\n",
    "FROM REVIEWS GROUP BY USERID HAVING COUNT(*) >1\"\"\",con)\n",
    "print(\"There are \", display.shape[0], \"duplicate values in our dataset\")\n",
    "display.head(10)"
   ]
  },
  {
   "cell_type": "code",
   "execution_count": null,
   "metadata": {},
   "outputs": [],
   "source": [
    "#Let's find out the occurence of christopher P. Presta as we can that it's been repeated twice.\n",
    "filtered_data[filtered_data[\"UserId\"]==\"#oc-R12KPBODL2B5ZD\"]"
   ]
  },
  {
   "cell_type": "markdown",
   "metadata": {},
   "source": [
    "It was inferred after analysis that reviews with same parameters other than ProductId belonged to the same product just having different flavour or quantity. Hence in order to reduce redundancy it was decided to eliminate the rows having same parameters.<br>\n",
    "\n",
    "The method used for the same was that we first sort the data according to ProductId (Because we wants to keep NAN values to bottom of our data set) and then just keep the first similar product review and delete the others. "
   ]
  },
  {
   "cell_type": "code",
   "execution_count": null,
   "metadata": {},
   "outputs": [],
   "source": [
    "# sorting the data frame first\n",
    "# DataFrame.sort_values(by, axis=0, ascending=True, inplace=False, kind='quicksort', na_position='last')\n",
    "sorted_df = filtered_data.sort_values(by='ProductId')\n",
    "sorted_df.head(2)"
   ]
  },
  {
   "cell_type": "code",
   "execution_count": null,
   "metadata": {},
   "outputs": [],
   "source": [
    "# de-duplication of entries \n",
    "# DataFrame.drop_duplicates(subset=None, keep='first', inplace=False)\n",
    "final_df = sorted_df.drop_duplicates(subset = ['UserId','ProfileName','Time','Text'])\n",
    "final_df.shape"
   ]
  },
  {
   "cell_type": "code",
   "execution_count": null,
   "metadata": {},
   "outputs": [],
   "source": [
    "#How much % of data we have dropped\n",
    "final_df.shape[0] / filtered_data.shape[0] * 100"
   ]
  },
  {
   "cell_type": "markdown",
   "metadata": {},
   "source": [
    "We have dropped almost 30% of our data"
   ]
  },
  {
   "cell_type": "markdown",
   "metadata": {},
   "source": [
    "### Hunch 2 : How about Helpfulness Numerator and Denominator \n",
    "we all know that helpfulnes numerator < helpfulness denominator because numerator denotes the positive reviews and denominator denotes the negative reviews. <br>\n",
    "\n",
    "Hence, we will be dropping few more rows now with this logic\n"
   ]
  },
  {
   "cell_type": "code",
   "execution_count": null,
   "metadata": {},
   "outputs": [],
   "source": [
    "final_df = final_df[final_df.HelpfulnessNumerator <= final_df.HelpfulnessDenominator]\n",
    "final_df.shape"
   ]
  },
  {
   "cell_type": "code",
   "execution_count": null,
   "metadata": {},
   "outputs": [],
   "source": [
    "# Now we will check if dataset is balanced or not\n",
    "# Series.value_counts(normalize=False, sort=True, ascending=False, bins=None, dropna=True)\n",
    "final_df[\"Score\"].value_counts()"
   ]
  },
  {
   "cell_type": "markdown",
   "metadata": {},
   "source": [
    "So, clearly we can see that the positive reviews are almost five times more than negative reviews. That means we are dealing with imbalanced dataset. "
   ]
  },
  {
   "cell_type": "markdown",
   "metadata": {},
   "source": [
    "### Hunch 3: Did this dataset has rows describing only about Food ? Outliers ?\n",
    "Let's find out if some rows are not related to food because dataset can be corrupted. while going through dataset I found out that there are some books reviews also in this dataset which we have to drop it.\n",
    "But the problem here is to we have to "
   ]
  },
  {
   "cell_type": "code",
   "execution_count": null,
   "metadata": {},
   "outputs": [],
   "source": [
    "\"\"\"import re\n",
    "def apply_mask_summary(final_data,regex_string):\n",
    "    mask = final_data.Summary.str.lower().str.contains(regex_string)\n",
    "    final_data.drop(final_data[mask].index, inplace=True)\n",
    "\n",
    "def apply_mask_text(final_data,regex_string):\n",
    "    mask = final_data.Text.str.lower().str.contains(regex_string)\n",
    "    final_data.drop(final_data[mask].index, inplace=True)\n",
    "\n",
    "apply_mask_summary(final_data,re.compile(r\"\\bbook\\b\"))\n",
    "apply_mask_summary(final_data,re.compile(r\"\\bread\\b\"))\n",
    "apply_mask_text(final_data,re.compile(r\"\\bbook\\b\"))\n",
    "apply_mask_text(final_data,re.compile(r\"\\bread\\b\"))\n",
    "apply_mask_summary(final_data,re.compile(r\"\\bbooks\\b\"))\n",
    "apply_mask_summary(final_data,re.compile(r\"\\breads\\b\"))\n",
    "apply_mask_text(final_data,re.compile(r\"\\bbooks\\b\"))\n",
    "apply_mask_text(final_data,re.compile(r\"\\breads\\b\"))\n",
    "apply_mask_summary(final_data,re.compile(r\"\\breading\\b\"))\n",
    "apply_mask_text(final_data,re.compile(r\"\\breading\\b\"))\n",
    "\n",
    "final_df.shape \"\"\"\n",
    "# we will deal with this later as there is problem it seems this can remove sentences like reading while eating x food etc."
   ]
  },
  {
   "cell_type": "markdown",
   "metadata": {},
   "source": [
    "# [3] Text Pre-Processing\n",
    "Now we have removed the redundant data almost, We will be proceeding with text preprocessing which can be procedural as below - \n",
    "1. Removal of HTML Tags.\n",
    "2. Removal of special characters as they contribute nothing to a Machine Learning models\n",
    "3. Checking for alphanumeric words as we want only english words\n",
    "4. Convert every word to lower case, so that there won't be any difference between Pasta and pasta. \n",
    "5. Stop word removal \n",
    "6. Stemming of Words, we will be using snowball stemmer as they are more powerful than porter stemmer.\n",
    "\n",
    "   so let's begin "
   ]
  },
  {
   "cell_type": "markdown",
   "metadata": {},
   "source": [
    "### Techniques for Text Pre-Processing "
   ]
  },
  {
   "cell_type": "code",
   "execution_count": null,
   "metadata": {},
   "outputs": [],
   "source": [
    "# Printing some random reviews to check for further redudancy in data\n",
    "for count in [0,2000,4000,6000,80000,100000]:\n",
    "    view = final_df['Text'].values[count]\n",
    "    print(view)\n",
    "    print(\"_\"*50)"
   ]
  },
  {
   "cell_type": "markdown",
   "metadata": {},
   "source": [
    "As we can see that there punctuations,commas,dashes,forward slashes etc. are redudant text because they don't hold any any information. We will have to get rid of them. So, Let's start with the 1st step HTML tags."
   ]
  },
  {
   "cell_type": "code",
   "execution_count": null,
   "metadata": {},
   "outputs": [],
   "source": [
    "# remove urls from text python: https://stackoverflow.com/a/40823105/4084039\n",
    "for count in [0,2000,4000,6000,80000,100000]:\n",
    "    view = re.sub(r\"http\\S+\",\"\",final_df['Text'].values[count])\n",
    "    print(view)\n",
    "    print(\"-\"*50)\n",
    "# Clearly there are no url's so we can't see if it works or not but trust me it works."
   ]
  },
  {
   "cell_type": "code",
   "execution_count": null,
   "metadata": {},
   "outputs": [],
   "source": [
    "# https://stackoverflow.com/questions/16206380/python-beautifulsoup-how-to-remove-all-tags-from-an-element\n",
    "# Python web scraping library for getting texts from HTML tags\n",
    "from bs4 import BeautifulSoup\n",
    "\n",
    "for count in [0,2000,4000,6000,80000,100000]:\n",
    "    view = BeautifulSoup(final_df['Text'].values[count],'lxml')\n",
    "    text = view.get_text()\n",
    "    print(text)\n",
    "    print(\"-\"*80)"
   ]
  },
  {
   "cell_type": "code",
   "execution_count": null,
   "metadata": {},
   "outputs": [],
   "source": [
    "# https://stackoverflow.com/a/47091490/4084039\n",
    "# re.sub(pattern,repl,string)\n",
    "def decontracted(phrase):\n",
    "    #specific\n",
    "    phrase = re.sub(r\"won't\",\"will not\",phrase)\n",
    "    phrase = re.sub(r\"can\\'t\",\"can not\",phrase)\n",
    "    \n",
    "    #general\n",
    "    phrase = re.sub(r\"n\\'t\", \" not\", phrase)\n",
    "    phrase = re.sub(r\"\\'re\", \" are\", phrase)\n",
    "    phrase = re.sub(r\"\\'s\", \" is\", phrase)\n",
    "    phrase = re.sub(r\"\\'d\", \" would\", phrase)\n",
    "    phrase = re.sub(r\"\\'ll\", \" will\", phrase)\n",
    "    phrase = re.sub(r\"\\'t\", \" not\", phrase)\n",
    "    phrase = re.sub(r\"\\'ve\", \" have\", phrase)\n",
    "    phrase = re.sub(r\"\\'m\", \" am\", phrase)\n",
    "    return phrase"
   ]
  },
  {
   "cell_type": "code",
   "execution_count": null,
   "metadata": {},
   "outputs": [],
   "source": [
    "for count in [0,2000,4000,6000,80000,100000]:\n",
    "    view = decontracted(phrase = final_df['Text'].values[count])\n",
    "    print(view)\n",
    "    print(\"-\"*70)"
   ]
  },
  {
   "cell_type": "markdown",
   "metadata": {},
   "source": [
    "Now we can see that the words like won't,can't has been converted into will not, can not etc."
   ]
  },
  {
   "cell_type": "code",
   "execution_count": null,
   "metadata": {},
   "outputs": [],
   "source": [
    "#remove words with numbers python: https://stackoverflow.com/a/18082370/4084039\n",
    "for count in [0,2000,4000,6000,80000,100000]:\n",
    "    view = re.sub(\"\\S*\\d\\S*\",\"\",final_df['Text'].values[count]).strip()\n",
    "    print(view)\n",
    "    print(\"-\"*70)"
   ]
  },
  {
   "cell_type": "code",
   "execution_count": null,
   "metadata": {},
   "outputs": [],
   "source": [
    "#remove special character: https://stackoverflow.com/a/5843547/4084039\n",
    "for count in [0,2000,4000,6000,80000,100000]:\n",
    "    view = re.sub(\"[^A-Za-z0-9]+\",\" \",final_df['Text'].values[count])\n",
    "    print(view)\n",
    "    print(\"-\"*80)\n",
    "    \n",
    "#Here is a regex to match a string of characters that are not a letters or numbers:\n",
    "#[^A-Za-z0-9]+ -- ^ match any single characters which ae not in brackets [] i.e. exclusion"
   ]
  },
  {
   "cell_type": "code",
   "execution_count": null,
   "metadata": {},
   "outputs": [],
   "source": [
    "# https://gist.github.com/sebleier/554280\n",
    "# we are removing the words from the stop words list: 'no', 'nor', 'not'\n",
    "# <br /><br /> ==> after the above steps, we are getting \"br br\"\n",
    "# we are including them into stop words list\n",
    "# instead of <br /> if we have <br/> these tags would have revmoved in the 1st step\n",
    "\n",
    "stopwords= set(['br', 'the', 'i', 'me', 'my', 'myself', 'we', 'our', 'ours', 'ourselves', 'you', \"you're\", \"you've\",\\\n",
    "            \"you'll\", \"you'd\", 'your', 'yours', 'yourself', 'yourselves', 'he', 'him', 'his', 'himself', \\\n",
    "            'she', \"she's\", 'her', 'hers', 'herself', 'it', \"it's\", 'its', 'itself', 'they', 'them', 'their',\\\n",
    "            'theirs', 'themselves', 'what', 'which', 'who', 'whom', 'this', 'that', \"that'll\", 'these', 'those', \\\n",
    "            'am', 'is', 'are', 'was', 'were', 'be', 'been', 'being', 'have', 'has', 'had', 'having', 'do', 'does', \\\n",
    "            'did', 'doing', 'a', 'an', 'the', 'and', 'but', 'if', 'or', 'because', 'as', 'until', 'while', 'of', \\\n",
    "            'at', 'by', 'for', 'with', 'about', 'against', 'between', 'into', 'through', 'during', 'before', 'after',\\\n",
    "            'above', 'below', 'to', 'from', 'up', 'down', 'in', 'out', 'on', 'off', 'over', 'under', 'again', 'further',\\\n",
    "            'then', 'once', 'here', 'there', 'when', 'where', 'why', 'how', 'all', 'any', 'both', 'each', 'few', 'more',\\\n",
    "            'most', 'other', 'some', 'such', 'only', 'own', 'same', 'so', 'than', 'too', 'very', \\\n",
    "            's', 't', 'can', 'will', 'just', 'don', \"don't\", 'should', \"should've\", 'now', 'd', 'll', 'm', 'o', 're', \\\n",
    "            've', 'y', 'ain', 'aren', \"aren't\", 'couldn', \"couldn't\", 'didn', \"didn't\", 'doesn', \"doesn't\", 'hadn',\\\n",
    "            \"hadn't\", 'hasn', \"hasn't\", 'haven', \"haven't\", 'isn', \"isn't\", 'ma', 'mightn', \"mightn't\", 'mustn',\\\n",
    "            \"mustn't\", 'needn', \"needn't\", 'shan', \"shan't\", 'shouldn', \"shouldn't\", 'wasn', \"wasn't\", 'weren', \"weren't\", \\\n",
    "            'won', \"won't\", 'wouldn', \"wouldn't\"])"
   ]
  },
  {
   "cell_type": "code",
   "execution_count": null,
   "metadata": {},
   "outputs": [],
   "source": [
    "# We will combine all the above stunts that we have learnt here -\n",
    "from tqdm import tqdm\n",
    "preprocessed_reviews=[]\n",
    "for sentences in tqdm(final_df['Text'].values):\n",
    "    sentence = re.sub(r\"http\\S+\", \"\", sentences)\n",
    "    sentence = BeautifulSoup(sentence, 'lxml').get_text()\n",
    "    sentence = decontracted(sentence)\n",
    "    sentence = re.sub(\"\\S*\\d\\S*\", \"\", sentence).strip()\n",
    "    sentence = re.sub('[^A-Za-z]+', ' ', sentence)\n",
    "    # https://gist.github.com/sebleier/554280\n",
    "    sentence = ' '.join(e.lower() for e in sentence.split() if e.lower() not in stopwords)\n",
    "    preprocessed_reviews.append(sentence)\n",
    "preprocessed_reviews[1:5]"
   ]
  },
  {
   "cell_type": "code",
   "execution_count": null,
   "metadata": {},
   "outputs": [],
   "source": [
    "# Now we will do pre-processing for review summary also in a exact same way\n",
    "\n",
    "from tqdm import tqdm\n",
    "preprocessed_summary=[]\n",
    "for sentences in tqdm(final_df['Summary'].values):\n",
    "    sentence = re.sub(r\"http\\S+\", \"\", sentences)\n",
    "    sentence = BeautifulSoup(sentence, 'lxml').get_text()\n",
    "    sentence = decontracted(sentence)\n",
    "    sentence = re.sub(\"\\S*\\d\\S*\", \"\", sentence).strip()\n",
    "    sentence = re.sub('[^A-Za-z]+', ' ', sentence)\n",
    "    # https://gist.github.com/sebleier/554280\n",
    "    sentence = ' '.join(e.lower() for e in sentence.split() if e.lower() not in stopwords)\n",
    "    preprocessed_summary.append(sentence)\n",
    "preprocessed_summary[1:5]"
   ]
  },
  {
   "cell_type": "markdown",
   "metadata": {},
   "source": [
    "Now, we have done with the text cleaning. It's time to converts all the relevant text into features vectors"
   ]
  },
  {
   "cell_type": "markdown",
   "metadata": {},
   "source": [
    "# [4] Featurization"
   ]
  },
  {
   "cell_type": "markdown",
   "metadata": {},
   "source": [
    "## [4.1] Bag of Words"
   ]
  },
  {
   "cell_type": "code",
   "execution_count": null,
   "metadata": {},
   "outputs": [],
   "source": [
    "#BOW\n",
    "# CountVectorizer(input=’content’, encoding=’utf-8’, decode_error=’strict’, strip_accents=None, lowercase=True, preprocessor=None, tokenizer=None, stop_words=None, token_pattern=’(?u)\\b\\w\\w+\\b’, ngram_range=(1, 1), analyzer=’word’, max_df=1.0, min_df=1, max_features=None, vocabulary=None, binary=False, dtype=<class ‘numpy.int64’>)\n",
    "count_vect = CountVectorizer()\n",
    "count_vect.fit(preprocessed_reviews)\n",
    "print(\"Some of the features are \",count_vect.get_feature_names()[:10])\n",
    "print(\"-\"*100)\n",
    "\n",
    "final_vect = count_vect.transform(preprocessed_reviews)\n",
    "print(\"The Type of final vectors created by BOW is \",type(final_vect))\n",
    "print(\"The dimensions of final vectors is \",final_vect.get_shape())\n",
    "print(\"The number of unique words are \",final_vect.get_shape()[1])\n"
   ]
  },
  {
   "cell_type": "markdown",
   "metadata": {},
   "source": [
    "As we can see that we have created the 113898 dimensions now, each dimension represents unique words present in corpus."
   ]
  },
  {
   "cell_type": "code",
   "execution_count": null,
   "metadata": {},
   "outputs": [],
   "source": [
    "# let's check elements in sparse matrix. let's say for 1st row how many non zeros column it has\n",
    "a=final_vect[0,:].toarray()\n",
    "np.count_nonzero(a,axis=1)"
   ]
  },
  {
   "cell_type": "markdown",
   "metadata": {},
   "source": [
    "## [4.2] Bi-Grams and n-Grams"
   ]
  },
  {
   "cell_type": "code",
   "execution_count": null,
   "metadata": {},
   "outputs": [],
   "source": [
    "#bi-gram, tri-gram and n-gram\n",
    "\n",
    "#removing stop words like \"not\" should be avoided before building n-grams || very important\n",
    "\n",
    "count_vect = CountVectorizer(ngram_range=(1,2), min_df=10, max_features=10000)\n",
    "final_bigram_counts = count_vect.fit_transform(preprocessed_reviews)\n",
    "print(\"the type of count vectorizer \",type(final_bigram_counts))\n",
    "print(\"the shape of out text BOW vectorizer \",final_bigram_counts.get_shape())\n",
    "print(\"the number of unique words including both unigrams and bigrams \", final_bigram_counts.get_shape()[1])"
   ]
  },
  {
   "cell_type": "markdown",
   "metadata": {},
   "source": [
    "## [4.3] TF - IDF"
   ]
  },
  {
   "cell_type": "code",
   "execution_count": null,
   "metadata": {},
   "outputs": [],
   "source": [
    "\"\"\"\n",
    "TfidfVectorizer(input=’content’, encoding=’utf-8’, decode_error=’strict’,\n",
    "strip_accents=None, lowercase=True, preprocessor=None, tokenizer=None, \n",
    "analyzer=’word’, stop_words=None, token_pattern=’(?u)\\b\\w\\w+\\b’, ngram_range=(1, 1), \n",
    "max_df=1.0, min_df=1, max_features=None, vocabulary=None, binary=False, dtype=<class ‘numpy.float64’>, \n",
    "norm=’l2’, use_idf=True, smooth_idf=True, sublinear_tf=False)\n",
    "\"\"\"\n",
    "\n",
    "tfid_vect = TfidfVectorizer(input='preprocessed_reviews',ngram_range=(1,2),min_df=5)\n",
    "tfid_vect.fit(preprocessed_reviews)\n",
    "print(\"Some samples features are \",tfid_vect.get_feature_names()[:10])\n",
    "\n",
    "final_tfid_vect = tfid_vect.transform(preprocessed_reviews)\n",
    "print(\"the type of count vectorizer \",type(final_tfid_vect))\n",
    "print(\"the shape of out text BOW vectorizer \",final_tfid_vect.get_shape())\n",
    "print(\"the number of unique words including both unigrams and bigrams \", final_tfid_vect.get_shape()[1])"
   ]
  },
  {
   "cell_type": "markdown",
   "metadata": {},
   "source": [
    "## [4.4] Word2Vec"
   ]
  },
  {
   "cell_type": "code",
   "execution_count": null,
   "metadata": {},
   "outputs": [],
   "source": [
    "# Train your own Word2Vec model using your own text corpus\n",
    "i=0\n",
    "list_of_sentance=[]\n",
    "for sentance in preprocessed_reviews:\n",
    "    list_of_sentance.append(sentance.split())"
   ]
  },
  {
   "cell_type": "code",
   "execution_count": null,
   "metadata": {},
   "outputs": [],
   "source": [
    "# Can't use Google trained word2vec due to ram limitation on my mac, requires around 9GB but i have only 8Gb\n",
    "# let's cut short our w2v input by only taking few thousand in corpus as it will take huge time for 500K datapoints\n",
    "# Word2Vec(common_texts, size=100, window=5, min_count=1, workers=4)\n",
    "w2vmodel = Word2Vec(list_of_sentance,size=50,min_count=3,workers=4)\n"
   ]
  },
  {
   "cell_type": "code",
   "execution_count": null,
   "metadata": {},
   "outputs": [],
   "source": [
    "print(w2vmodel.wv.most_similar('great'))\n",
    "print('='*50)\n",
    "print(w2vmodel.wv.most_similar('king'))"
   ]
  },
  {
   "cell_type": "code",
   "execution_count": null,
   "metadata": {},
   "outputs": [],
   "source": [
    "w2v_words = list(w2vmodel.wv.vocab)\n",
    "print(\"number of words that occured minimum 3 times \",len(w2v_words))\n",
    "print(\"sample words \", w2v_words[0:20])"
   ]
  },
  {
   "cell_type": "markdown",
   "metadata": {},
   "source": [
    "Let's check if similar words has vectors parallel to each other. So basic math here is \n",
    "* If a.b = 0 --> Orthogonal\n",
    "* If a.b = 1 --> Parallel\n",
    "* If a.b =-1 --> Anti parallel"
   ]
  },
  {
   "cell_type": "code",
   "execution_count": null,
   "metadata": {},
   "outputs": [],
   "source": [
    "# checking for great and terrific\n",
    "grt_w2v = w2vmodel.wv['great'] \n",
    "a = np.copy(grt_w2v)\n",
    "a /= np.sqrt(grt_w2v.dot(grt_w2v)) # Calculating the unit vector \n",
    "terrific_w2v = w2vmodel.wv['terrific']\n",
    "b = np.copy(terrific_w2v)\n",
    "b /= np.sqrt(terrific_w2v.dot(terrific_w2v))\n",
    "print(\"The dot product is \",np.dot(a,b))"
   ]
  },
  {
   "cell_type": "markdown",
   "metadata": {},
   "source": [
    "Clearly we can see that the dot product of unit vector is almost equal to 1."
   ]
  },
  {
   "cell_type": "code",
   "execution_count": null,
   "metadata": {},
   "outputs": [],
   "source": [
    "# checking for great and terrific\n",
    "grt_w2v = w2vmodel.wv['great'] \n",
    "a = np.copy(grt_w2v)\n",
    "a /= np.sqrt(grt_w2v.dot(grt_w2v)) # Calculating the unit vector \n",
    "library = w2vmodel.wv['library']\n",
    "b = np.copy(library)\n",
    "b /= np.sqrt(library.dot(library))\n",
    "print(\"The dot product is \",np.dot(a,b))"
   ]
  },
  {
   "cell_type": "markdown",
   "metadata": {},
   "source": [
    "Here the dot product is closer towards 0 and make sense. As the library and great are not related at all"
   ]
  },
  {
   "cell_type": "markdown",
   "metadata": {},
   "source": [
    "### [4.4.1] Avg w2v"
   ]
  },
  {
   "cell_type": "code",
   "execution_count": null,
   "metadata": {},
   "outputs": [],
   "source": [
    "# Let's create a sentence vectors\n",
    "sent_vector = []\n",
    "for sentence in tqdm(list_of_sentance):\n",
    "    sent_vec = np.zeros(50) #50 dimensions we have mentioned above\n",
    "    count = 0\n",
    "    for word in sentence:\n",
    "        if word in w2v_words:\n",
    "            sent_vec += w2vmodel.wv[word]\n",
    "            count +=1\n",
    "    if count !=0:\n",
    "        sent_vec /= count\n",
    "    sent_vector.append(sent_vec)\n",
    "        \n",
    "print(len(sent_vector))\n",
    "print(len(sent_vector[0]))\n",
    "            "
   ]
  },
  {
   "cell_type": "code",
   "execution_count": null,
   "metadata": {},
   "outputs": [],
   "source": [
    "print(len(sent_vector))\n",
    "print(len(sent_vector[0]))"
   ]
  },
  {
   "cell_type": "markdown",
   "metadata": {},
   "source": [
    "### [4.4.2]  TFIDF weighted W2V"
   ]
  },
  {
   "cell_type": "code",
   "execution_count": null,
   "metadata": {},
   "outputs": [],
   "source": [
    "# we already have IDF object i.e. tfid_vect\n",
    "# we need to create dictionary for faster lookup of idf value\n",
    "idf_dict = dict(zip(tfid_vect.get_feature_names(),list(tfid_vect.idf_)))"
   ]
  },
  {
   "cell_type": "code",
   "execution_count": null,
   "metadata": {},
   "outputs": [],
   "source": [
    "idf_dict['terrific']"
   ]
  },
  {
   "cell_type": "code",
   "execution_count": null,
   "metadata": {},
   "outputs": [],
   "source": [
    "w2v_tfidf_sentvec = []\n",
    "tfidf_featname = tfid_vect.get_feature_names()\n",
    "for sentence in tqdm(list_of_sentance):\n",
    "    sent_vec = np.zeros(50)\n",
    "    weighted_sum = 0\n",
    "    for word in sentence:\n",
    "        if word in tfidf_featname and word in w2v_words:\n",
    "            tfidf = idf_dict[word] * (sentence.count(word)/len(sentence)) #idf * tf\n",
    "            sent_vec += tfidf *  w2vmodel.wv[word] #calculating the weighted sum\n",
    "            weighted_sum +=tfidf \n",
    "    if weighted_sum!=0:\n",
    "        sent_vec /= weighted_sum # sentence vector = tfidf * w2v / sum(tfidf) for particular document in corpus \n",
    "    w2v_tfidf_sentvec.append(sent_vec)\n",
    "print(len(w2v_tfidf_sentvec))\n",
    "print(len(w2v_tfidf_sentvec[0]))"
   ]
  },
  {
   "cell_type": "markdown",
   "metadata": {},
   "source": [
    "Can't train it on 500K examples, RAM issue."
   ]
  },
  {
   "cell_type": "markdown",
   "metadata": {},
   "source": [
    "# [5] Applying TSNE"
   ]
  },
  {
   "cell_type": "code",
   "execution_count": null,
   "metadata": {},
   "outputs": [],
   "source": []
  }
 ],
 "metadata": {
  "kernelspec": {
   "display_name": "Python 3",
   "language": "python",
   "name": "python3"
  },
  "language_info": {
   "codemirror_mode": {
    "name": "ipython",
    "version": 3
   },
   "file_extension": ".py",
   "mimetype": "text/x-python",
   "name": "python",
   "nbconvert_exporter": "python",
   "pygments_lexer": "ipython3",
   "version": "3.6.5"
  }
 },
 "nbformat": 4,
 "nbformat_minor": 2
}
